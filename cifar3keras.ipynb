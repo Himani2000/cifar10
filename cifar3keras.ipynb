{
 "cells": [
  {
   "cell_type": "code",
   "execution_count": 1,
   "metadata": {
    "colab": {
     "autoexec": {
      "startup": false,
      "wait_interval": 0
     },
     "base_uri": "https://localhost:8080/",
     "height": 35
    },
    "colab_type": "code",
    "executionInfo": {
     "elapsed": 9371,
     "status": "ok",
     "timestamp": 1532725555105,
     "user": {
      "displayName": "Himani Negi",
      "photoUrl": "https://lh3.googleusercontent.com/a/default-user=s128",
      "userId": "114198835767307416956"
     },
     "user_tz": -330
    },
    "id": "zmk8sWcUE9cI",
    "outputId": "2f42a23c-4c5d-4cc9-b193-ad9f44aa6903"
   },
   "outputs": [
    {
     "name": "stderr",
     "output_type": "stream",
     "text": [
      "Using TensorFlow backend.\n"
     ]
    }
   ],
   "source": [
    "import keras\n",
    "from keras.datasets import cifar10\n",
    "from keras.preprocessing.image import ImageDataGenerator\n",
    "from keras.models import Sequential\n",
    "from keras.layers import Dense, Dropout, Activation, Flatten\n",
    "from keras.layers import Conv2D, MaxPooling2D"
   ]
  },
  {
   "cell_type": "code",
   "execution_count": 2,
   "metadata": {
    "colab": {
     "autoexec": {
      "startup": false,
      "wait_interval": 0
     },
     "base_uri": "https://localhost:8080/",
     "height": 54
    },
    "colab_type": "code",
    "executionInfo": {
     "elapsed": 16589,
     "status": "ok",
     "timestamp": 1532725582517,
     "user": {
      "displayName": "Himani Negi",
      "photoUrl": "https://lh3.googleusercontent.com/a/default-user=s128",
      "userId": "114198835767307416956"
     },
     "user_tz": -330
    },
    "id": "rCJBE9NYj2Io",
    "outputId": "28782c6d-0df1-433b-99e3-7f82cad8682e"
   },
   "outputs": [
    {
     "name": "stdout",
     "output_type": "stream",
     "text": [
      "Downloading data from https://www.cs.toronto.edu/~kriz/cifar-10-python.tar.gz\n",
      "170500096/170498071 [==============================] - 13s 0us/step\n"
     ]
    }
   ],
   "source": [
    "(x_train, y_train), (x_test, y_test) = cifar10.load_data()"
   ]
  },
  {
   "cell_type": "code",
   "execution_count": 3,
   "metadata": {
    "colab": {
     "autoexec": {
      "startup": false,
      "wait_interval": 0
     },
     "base_uri": "https://localhost:8080/",
     "height": 35
    },
    "colab_type": "code",
    "executionInfo": {
     "elapsed": 978,
     "status": "ok",
     "timestamp": 1532725590995,
     "user": {
      "displayName": "Himani Negi",
      "photoUrl": "https://lh3.googleusercontent.com/a/default-user=s128",
      "userId": "114198835767307416956"
     },
     "user_tz": -330
    },
    "id": "1eKy-y97kB9n",
    "outputId": "96722222-0bc7-490b-83b7-da87f786740e"
   },
   "outputs": [
    {
     "data": {
      "text/plain": [
       "((50000, 32, 32, 3), (10000, 32, 32, 3), (50000, 1), (10000, 1))"
      ]
     },
     "execution_count": 3,
     "metadata": {
      "tags": []
     },
     "output_type": "execute_result"
    }
   ],
   "source": [
    "x_train.shape,x_test.shape,y_train.shape,y_test.shape"
   ]
  },
  {
   "cell_type": "code",
   "execution_count": 0,
   "metadata": {
    "colab": {
     "autoexec": {
      "startup": false,
      "wait_interval": 0
     }
    },
    "colab_type": "code",
    "id": "4yJJa9aKkHez"
   },
   "outputs": [],
   "source": [
    "num_classes=10\n",
    "y_train = keras.utils.to_categorical(y_train, num_classes)\n",
    "y_test = keras.utils.to_categorical(y_test, num_classes)\n"
   ]
  },
  {
   "cell_type": "code",
   "execution_count": 6,
   "metadata": {
    "colab": {
     "autoexec": {
      "startup": false,
      "wait_interval": 0
     },
     "base_uri": "https://localhost:8080/",
     "height": 35
    },
    "colab_type": "code",
    "executionInfo": {
     "elapsed": 1192,
     "status": "ok",
     "timestamp": 1532725649803,
     "user": {
      "displayName": "Himani Negi",
      "photoUrl": "https://lh3.googleusercontent.com/a/default-user=s128",
      "userId": "114198835767307416956"
     },
     "user_tz": -330
    },
    "id": "XWMCmrVnkTCQ",
    "outputId": "a0c28a37-175c-4600-9dc3-ec2e501851d6"
   },
   "outputs": [
    {
     "data": {
      "text/plain": [
       "((50000, 10), (10000, 10))"
      ]
     },
     "execution_count": 6,
     "metadata": {
      "tags": []
     },
     "output_type": "execute_result"
    }
   ],
   "source": [
    "y_train.shape,y_test.shape"
   ]
  },
  {
   "cell_type": "code",
   "execution_count": 0,
   "metadata": {
    "colab": {
     "autoexec": {
      "startup": false,
      "wait_interval": 0
     }
    },
    "colab_type": "code",
    "id": "bMzgplfqkVyA"
   },
   "outputs": [],
   "source": [
    "model = Sequential()"
   ]
  },
  {
   "cell_type": "code",
   "execution_count": 9,
   "metadata": {
    "colab": {
     "autoexec": {
      "startup": false,
      "wait_interval": 0
     },
     "base_uri": "https://localhost:8080/",
     "height": 35
    },
    "colab_type": "code",
    "executionInfo": {
     "elapsed": 976,
     "status": "ok",
     "timestamp": 1532725814724,
     "user": {
      "displayName": "Himani Negi",
      "photoUrl": "https://lh3.googleusercontent.com/a/default-user=s128",
      "userId": "114198835767307416956"
     },
     "user_tz": -330
    },
    "id": "-oTKtE5tkXCX",
    "outputId": "93e05168-e4a2-47b0-af0f-6c0c4359b3aa"
   },
   "outputs": [
    {
     "data": {
      "text/plain": [
       "(32, 32, 3)"
      ]
     },
     "execution_count": 9,
     "metadata": {
      "tags": []
     },
     "output_type": "execute_result"
    }
   ],
   "source": [
    "x_train.shape[1:]"
   ]
  },
  {
   "cell_type": "code",
   "execution_count": 0,
   "metadata": {
    "colab": {
     "autoexec": {
      "startup": false,
      "wait_interval": 0
     }
    },
    "colab_type": "code",
    "id": "dOTTfK94mRwz"
   },
   "outputs": [],
   "source": [
    "model = Sequential()\n",
    "model.add(Conv2D(32, (3, 3), padding='same',\n",
    "                 input_shape=x_train.shape[1:]))\n",
    "model.add(Activation('relu'))\n",
    "#model.add(MaxPooling2D(pool_size=(2, 2)))\n",
    "model.add(Conv2D(32, (3, 3)))\n",
    "model.add(Activation('relu'))\n",
    "model.add(MaxPooling2D(pool_size=(2, 2)))\n",
    "model.add(Dropout(0.25))\n",
    "\n",
    "model.add(Conv2D(64, (3, 3), padding='same'))\n",
    "model.add(Activation('relu'))\n",
    "model.add(Conv2D(64, (3, 3)))\n",
    "model.add(Activation('relu'))\n",
    "model.add(MaxPooling2D(pool_size=(2, 2)))\n",
    "model.add(Dropout(0.25))\n",
    "\n",
    "model.add(Flatten())\n",
    "model.add(Dense(512))\n",
    "model.add(Activation('relu'))\n",
    "model.add(Dropout(0.5))\n",
    "model.add(Dense(num_classes))\n",
    "model.add(Activation('softmax'))"
   ]
  },
  {
   "cell_type": "code",
   "execution_count": 0,
   "metadata": {
    "colab": {
     "autoexec": {
      "startup": false,
      "wait_interval": 0
     }
    },
    "colab_type": "code",
    "id": "32onsd3dmYD9"
   },
   "outputs": [],
   "source": [
    "opt = keras.optimizers.rmsprop(lr=0.0001, decay=1e-6)\n",
    "\n",
    "# Let's train the model using RMSprop\n",
    "model.compile(loss='categorical_crossentropy',\n",
    "              optimizer=opt,\n",
    "              metrics=['accuracy'])"
   ]
  },
  {
   "cell_type": "code",
   "execution_count": 25,
   "metadata": {
    "colab": {
     "autoexec": {
      "startup": false,
      "wait_interval": 0
     },
     "base_uri": "https://localhost:8080/",
     "height": 1910
    },
    "colab_type": "code",
    "executionInfo": {
     "elapsed": 1733303,
     "status": "ok",
     "timestamp": 1532729022914,
     "user": {
      "displayName": "Himani Negi",
      "photoUrl": "https://lh3.googleusercontent.com/a/default-user=s128",
      "userId": "114198835767307416956"
     },
     "user_tz": -330
    },
    "id": "nDs_hhxEm9wj",
    "outputId": "9e2a7b7c-411c-413c-f641-8ccb00e9c3ee"
   },
   "outputs": [
    {
     "name": "stdout",
     "output_type": "stream",
     "text": [
      "WARNING:tensorflow:Variable *= will be deprecated. Use variable.assign_mul if you want assignment to the variable value or 'x = x * y' if you want a new python Tensor object.\n",
      "Train on 50000 samples, validate on 10000 samples\n",
      "Epoch 1/50\n",
      "29600/50000 [================>.............] - ETA: 12s - loss: 1.9394 - acc: 0.283450000/50000 [==============================] - 33s 663us/step - loss: 1.8285 - acc: 0.3289 - val_loss: 1.5679 - val_acc: 0.4302\n",
      "Epoch 2/50\n",
      "35040/50000 [====================>.........] - ETA: 9s - loss: 1.5177 - acc: 0.450350000/50000 [==============================] - 32s 647us/step - loss: 1.4911 - acc: 0.4615 - val_loss: 1.3450 - val_acc: 0.5229\n",
      "Epoch 3/50\n",
      "36960/50000 [=====================>........] - ETA: 7s - loss: 1.3606 - acc: 0.510850000/50000 [==============================] - 32s 647us/step - loss: 1.3438 - acc: 0.5192 - val_loss: 1.2103 - val_acc: 0.5721\n",
      "Epoch 4/50\n",
      "36928/50000 [=====================>........] - ETA: 8s - loss: 1.2507 - acc: 0.558050000/50000 [==============================] - 35s 693us/step - loss: 1.2396 - acc: 0.5616 - val_loss: 1.1610 - val_acc: 0.5953\n",
      "Epoch 5/50\n",
      "33280/50000 [==================>...........] - ETA: 11s - loss: 1.1658 - acc: 0.586550000/50000 [==============================] - 37s 748us/step - loss: 1.1554 - acc: 0.5906 - val_loss: 1.0754 - val_acc: 0.6241\n",
      "Epoch 6/50\n",
      "33088/50000 [==================>...........] - ETA: 11s - loss: 1.0929 - acc: 0.616450000/50000 [==============================] - 36s 725us/step - loss: 1.0916 - acc: 0.6175 - val_loss: 1.0223 - val_acc: 0.6441\n",
      "Epoch 7/50\n",
      "31584/50000 [=================>............] - ETA: 13s - loss: 1.0407 - acc: 0.6350000/50000 [==============================] - 37s 750us/step - loss: 1.0379 - acc: 0.6374 - val_loss: 1.0239 - val_acc: 0.6413\n",
      "Epoch 8/50\n",
      "30112/50000 [=================>............] - ETA: 14s - loss: 0.9986 - acc: 0.650250000/50000 [==============================] - 38s 767us/step - loss: 0.9960 - acc: 0.6485 - val_loss: 0.9595 - val_acc: 0.6653\n",
      "Epoch 9/50\n",
      "28640/50000 [================>.............] - ETA: 15s - loss: 0.9600 - acc: 0.662750000/50000 [==============================] - 41s 812us/step - loss: 0.9563 - acc: 0.6638 - val_loss: 0.9235 - val_acc: 0.6824\n",
      "Epoch 10/50\n",
      "25984/50000 [==============>...............] - ETA: 18s - loss: 0.9279 - acc: 0.674350000/50000 [==============================] - 41s 816us/step - loss: 0.9222 - acc: 0.6778 - val_loss: 0.9315 - val_acc: 0.6786\n",
      "Epoch 11/50\n",
      "22080/50000 [============>.................] - ETA: 24s - loss: 0.8931 - acc: 0.683950000/50000 [==============================] - 48s 950us/step - loss: 0.8944 - acc: 0.6857 - val_loss: 0.8455 - val_acc: 0.7073\n",
      "Epoch 12/50\n",
      "18080/50000 [=========>....................] - ETA: 28s - loss: 0.8721 - acc: 0.694750000/50000 [==============================] - 45s 892us/step - loss: 0.8708 - acc: 0.6952 - val_loss: 0.8334 - val_acc: 0.7113\n",
      "Epoch 13/50\n",
      "23776/50000 [=============>................] - ETA: 18s - loss: 0.8539 - acc: 0.700550000/50000 [==============================] - 38s 762us/step - loss: 0.8478 - acc: 0.7041 - val_loss: 0.8257 - val_acc: 0.7189\n",
      "Epoch 14/50\n",
      "28768/50000 [================>.............] - ETA: 14s - loss: 0.8332 - acc: 0.708750000/50000 [==============================] - 37s 735us/step - loss: 0.8298 - acc: 0.7120 - val_loss: 0.8356 - val_acc: 0.7158\n",
      "Epoch 15/50\n",
      "31328/50000 [=================>............] - ETA: 12s - loss: 0.8135 - acc: 0.716350000/50000 [==============================] - 36s 722us/step - loss: 0.8113 - acc: 0.7178 - val_loss: 0.7992 - val_acc: 0.7302\n",
      "Epoch 16/50\n",
      "33024/50000 [==================>...........] - ETA: 11s - loss: 0.7909 - acc: 0.725450000/50000 [==============================] - 36s 714us/step - loss: 0.7891 - acc: 0.7264 - val_loss: 0.7569 - val_acc: 0.7428\n",
      "Epoch 17/50\n",
      "34784/50000 [===================>..........] - ETA: 9s - loss: 0.7866 - acc: 0.728550000/50000 [==============================] - 34s 674us/step - loss: 0.7836 - acc: 0.7285 - val_loss: 0.8017 - val_acc: 0.7188\n",
      "Epoch 18/50\n",
      "36768/50000 [=====================>........] - ETA: 8s - loss: 0.7622 - acc: 0.732450000/50000 [==============================] - 32s 647us/step - loss: 0.7625 - acc: 0.7338 - val_loss: 0.7500 - val_acc: 0.7444\n",
      "Epoch 19/50\n",
      "37728/50000 [=====================>........] - ETA: 7s - loss: 0.7501 - acc: 0.739650000/50000 [==============================] - 32s 650us/step - loss: 0.7498 - acc: 0.7402 - val_loss: 0.7597 - val_acc: 0.7381\n",
      "Epoch 20/50\n",
      "34432/50000 [===================>..........] - ETA: 10s - loss: 0.7347 - acc: 0.748350000/50000 [==============================] - 35s 698us/step - loss: 0.7377 - acc: 0.7472 - val_loss: 0.7502 - val_acc: 0.7467\n",
      "Epoch 21/50\n",
      "36320/50000 [====================>.........] - ETA: 8s - loss: 0.7285 - acc: 0.749550000/50000 [==============================] - 33s 668us/step - loss: 0.7308 - acc: 0.7493 - val_loss: 0.7360 - val_acc: 0.7452\n",
      "Epoch 22/50\n",
      "36832/50000 [=====================>........] - ETA: 8s - loss: 0.7202 - acc: 0.751050000/50000 [==============================] - 33s 669us/step - loss: 0.7197 - acc: 0.7510 - val_loss: 0.7231 - val_acc: 0.7543\n",
      "Epoch 23/50\n",
      "36448/50000 [====================>.........] - ETA: 8s - loss: 0.7048 - acc: 0.755450000/50000 [==============================] - 35s 695us/step - loss: 0.7123 - acc: 0.7543 - val_loss: 0.7097 - val_acc: 0.7593\n",
      "Epoch 24/50\n",
      "34816/50000 [===================>..........] - ETA: 10s - loss: 0.7027 - acc: 0.757750000/50000 [==============================] - 35s 700us/step - loss: 0.7045 - acc: 0.7577 - val_loss: 0.7024 - val_acc: 0.7607\n",
      "Epoch 25/50\n",
      "34368/50000 [===================>..........] - ETA: 10s - loss: 0.6939 - acc: 0.761150000/50000 [==============================] - 35s 692us/step - loss: 0.6949 - acc: 0.7620 - val_loss: 0.7064 - val_acc: 0.7542\n",
      "Epoch 26/50\n",
      "34368/50000 [===================>..........] - ETA: 10s - loss: 0.6845 - acc: 0.766950000/50000 [==============================] - 34s 685us/step - loss: 0.6888 - acc: 0.7659 - val_loss: 0.7518 - val_acc: 0.7386\n",
      "Epoch 27/50\n",
      "34464/50000 [===================>..........] - ETA: 10s - loss: 0.6853 - acc: 0.766050000/50000 [==============================] - 34s 690us/step - loss: 0.6837 - acc: 0.7668 - val_loss: 0.6941 - val_acc: 0.7621\n",
      "Epoch 28/50\n",
      "34208/50000 [===================>..........] - ETA: 10s - loss: 0.6761 - acc: 0.766850000/50000 [==============================] - 34s 688us/step - loss: 0.6785 - acc: 0.7666 - val_loss: 0.7335 - val_acc: 0.7507\n",
      "Epoch 29/50\n",
      "34144/50000 [===================>..........] - ETA: 10s - loss: 0.6738 - acc: 0.768250000/50000 [==============================] - 34s 685us/step - loss: 0.6765 - acc: 0.7672 - val_loss: 0.7027 - val_acc: 0.7629\n",
      "Epoch 30/50\n",
      "33728/50000 [===================>..........] - ETA: 10s - loss: 0.6615 - acc: 0.773650000/50000 [==============================] - 36s 711us/step - loss: 0.6632 - acc: 0.7736 - val_loss: 0.7176 - val_acc: 0.7636\n",
      "Epoch 31/50\n",
      "33440/50000 [===================>..........] - ETA: 11s - loss: 0.6636 - acc: 0.772350000/50000 [==============================] - 36s 717us/step - loss: 0.6665 - acc: 0.7723 - val_loss: 0.6961 - val_acc: 0.7652\n",
      "Epoch 32/50\n",
      "33344/50000 [===================>..........] - ETA: 11s - loss: 0.6536 - acc: 0.777250000/50000 [==============================] - 36s 713us/step - loss: 0.6584 - acc: 0.7752 - val_loss: 0.6833 - val_acc: 0.7710\n",
      "Epoch 33/50\n",
      "32736/50000 [==================>...........] - ETA: 11s - loss: 0.6579 - acc: 0.777250000/50000 [==============================] - 36s 718us/step - loss: 0.6574 - acc: 0.7765 - val_loss: 0.6736 - val_acc: 0.7739\n",
      "Epoch 34/50\n",
      "35328/50000 [====================>.........] - ETA: 8s - loss: 0.6554 - acc: 0.777150000/50000 [==============================] - 32s 647us/step - loss: 0.6526 - acc: 0.7786 - val_loss: 0.6834 - val_acc: 0.7772\n",
      "Epoch 35/50\n",
      "36992/50000 [=====================>........] - ETA: 7s - loss: 0.6469 - acc: 0.777950000/50000 [==============================] - 32s 635us/step - loss: 0.6524 - acc: 0.7762 - val_loss: 0.6714 - val_acc: 0.7742\n",
      "Epoch 36/50\n",
      "37696/50000 [=====================>........] - ETA: 7s - loss: 0.6458 - acc: 0.779850000/50000 [==============================] - 31s 628us/step - loss: 0.6490 - acc: 0.7788 - val_loss: 0.6926 - val_acc: 0.7730\n",
      "Epoch 37/50\n"
     ]
    },
    {
     "name": "stdout",
     "output_type": "stream",
     "text": [
      "37984/50000 [=====================>........] - ETA: 7s - loss: 0.6445 - acc: 0.782150000/50000 [==============================] - 32s 639us/step - loss: 0.6452 - acc: 0.7828 - val_loss: 0.6641 - val_acc: 0.7811\n",
      "Epoch 38/50\n",
      "38080/50000 [=====================>........] - ETA: 7s - loss: 0.6442 - acc: 0.781750000/50000 [==============================] - 32s 636us/step - loss: 0.6455 - acc: 0.7823 - val_loss: 0.6830 - val_acc: 0.7748\n",
      "Epoch 39/50\n",
      "38112/50000 [=====================>........] - ETA: 7s - loss: 0.6365 - acc: 0.782550000/50000 [==============================] - 32s 634us/step - loss: 0.6429 - acc: 0.7815 - val_loss: 0.6365 - val_acc: 0.7884\n",
      "Epoch 40/50\n",
      "38080/50000 [=====================>........] - ETA: 7s - loss: 0.6421 - acc: 0.782550000/50000 [==============================] - 32s 636us/step - loss: 0.6459 - acc: 0.7812 - val_loss: 0.6762 - val_acc: 0.7773\n",
      "Epoch 41/50\n",
      "38048/50000 [=====================>........] - ETA: 7s - loss: 0.6378 - acc: 0.784250000/50000 [==============================] - 32s 647us/step - loss: 0.6409 - acc: 0.7832 - val_loss: 0.6543 - val_acc: 0.7864\n",
      "Epoch 42/50\n",
      "38144/50000 [=====================>........] - ETA: 7s - loss: 0.6368 - acc: 0.787050000/50000 [==============================] - 32s 649us/step - loss: 0.6351 - acc: 0.7862 - val_loss: 0.6436 - val_acc: 0.7897\n",
      "Epoch 43/50\n",
      "37952/50000 [=====================>........] - ETA: 7s - loss: 0.6378 - acc: 0.786050000/50000 [==============================] - 32s 648us/step - loss: 0.6390 - acc: 0.7860 - val_loss: 0.6536 - val_acc: 0.7845\n",
      "Epoch 44/50\n",
      "38080/50000 [=====================>........] - ETA: 7s - loss: 0.6302 - acc: 0.783850000/50000 [==============================] - 32s 648us/step - loss: 0.6343 - acc: 0.7830 - val_loss: 0.6643 - val_acc: 0.7808\n",
      "Epoch 45/50\n",
      "38048/50000 [=====================>........] - ETA: 7s - loss: 0.6384 - acc: 0.788350000/50000 [==============================] - 32s 646us/step - loss: 0.6382 - acc: 0.7872 - val_loss: 0.6710 - val_acc: 0.7790\n",
      "Epoch 46/50\n",
      "38112/50000 [=====================>........] - ETA: 7s - loss: 0.6363 - acc: 0.787650000/50000 [==============================] - 32s 637us/step - loss: 0.6388 - acc: 0.7869 - val_loss: 0.6404 - val_acc: 0.7874\n",
      "Epoch 47/50\n",
      "38080/50000 [=====================>........] - ETA: 7s - loss: 0.6243 - acc: 0.791750000/50000 [==============================] - 32s 636us/step - loss: 0.6286 - acc: 0.7907 - val_loss: 0.6680 - val_acc: 0.7815\n",
      "Epoch 48/50\n",
      "38240/50000 [=====================>........] - ETA: 7s - loss: 0.6305 - acc: 0.787750000/50000 [==============================] - 32s 634us/step - loss: 0.6326 - acc: 0.7875 - val_loss: 0.6354 - val_acc: 0.7906\n",
      "Epoch 49/50\n",
      "38272/50000 [=====================>........] - ETA: 7s - loss: 0.6318 - acc: 0.791050000/50000 [==============================] - 32s 636us/step - loss: 0.6300 - acc: 0.7914 - val_loss: 0.6556 - val_acc: 0.7831\n",
      "Epoch 50/50\n",
      "38144/50000 [=====================>........] - ETA: 7s - loss: 0.6289 - acc: 0.789850000/50000 [==============================] - 32s 636us/step - loss: 0.6329 - acc: 0.7878 - val_loss: 0.6349 - val_acc: 0.7898\n"
     ]
    },
    {
     "data": {
      "text/plain": [
       "<keras.callbacks.History at 0x7f0d9fac32b0>"
      ]
     },
     "execution_count": 25,
     "metadata": {
      "tags": []
     },
     "output_type": "execute_result"
    }
   ],
   "source": [
    "x_train = x_train.astype('float32')\n",
    "x_test = x_test.astype('float32')\n",
    "x_train /= 255\n",
    "x_test /= 255\n",
    "batch_size=32\n",
    "epochs=50\n",
    "model.fit(x_train, y_train,\n",
    "              batch_size=batch_size,\n",
    "              epochs=epochs,\n",
    "              validation_data=(x_test, y_test),\n",
    "              shuffle=True)"
   ]
  },
  {
   "cell_type": "code",
   "execution_count": 27,
   "metadata": {
    "colab": {
     "autoexec": {
      "startup": false,
      "wait_interval": 0
     },
     "base_uri": "https://localhost:8080/",
     "height": 54
    },
    "colab_type": "code",
    "executionInfo": {
     "elapsed": 3377,
     "status": "ok",
     "timestamp": 1532729128101,
     "user": {
      "displayName": "Himani Negi",
      "photoUrl": "https://lh3.googleusercontent.com/a/default-user=s128",
      "userId": "114198835767307416956"
     },
     "user_tz": -330
    },
    "id": "-CKllfsznU3S",
    "outputId": "737df9d1-cf90-4f0f-edd2-5e71b47b09e7"
   },
   "outputs": [
    {
     "name": "stdout",
     "output_type": "stream",
     "text": [
      "10000/10000 [==============================] - 2s 230us/step\n"
     ]
    },
    {
     "data": {
      "text/plain": [
       "[0.6348879954338074, 0.7898]"
      ]
     },
     "execution_count": 27,
     "metadata": {
      "tags": []
     },
     "output_type": "execute_result"
    }
   ],
   "source": [
    "scores = model.evaluate(x_test, y_test, verbose=1)\n",
    "scores"
   ]
  },
  {
   "cell_type": "code",
   "execution_count": 1,
   "metadata": {
    "colab": {
     "autoexec": {
      "startup": false,
      "wait_interval": 0
     }
    },
    "colab_type": "code",
    "id": "Rjqh2-5AnznE"
   },
   "outputs": [
    {
     "ename": "NameError",
     "evalue": "name 'model' is not defined",
     "output_type": "error",
     "traceback": [
      "\u001b[1;31m---------------------------------------------------------------------------\u001b[0m",
      "\u001b[1;31mNameError\u001b[0m                                 Traceback (most recent call last)",
      "\u001b[1;32m<ipython-input-1-86d4511c27a8>\u001b[0m in \u001b[0;36m<module>\u001b[1;34m()\u001b[0m\n\u001b[1;32m----> 1\u001b[1;33m \u001b[0my_pred\u001b[0m\u001b[1;33m=\u001b[0m\u001b[0mmodel\u001b[0m\u001b[1;33m.\u001b[0m\u001b[0mpredict\u001b[0m\u001b[1;33m(\u001b[0m\u001b[0mx_test\u001b[0m\u001b[1;33m,\u001b[0m \u001b[0mbatch_size\u001b[0m\u001b[1;33m=\u001b[0m\u001b[1;32mNone\u001b[0m\u001b[1;33m,\u001b[0m \u001b[0mverbose\u001b[0m\u001b[1;33m=\u001b[0m\u001b[1;36m0\u001b[0m\u001b[1;33m,\u001b[0m \u001b[0msteps\u001b[0m\u001b[1;33m=\u001b[0m\u001b[1;32mNone\u001b[0m\u001b[1;33m)\u001b[0m\u001b[1;33m\u001b[0m\u001b[0m\n\u001b[0m",
      "\u001b[1;31mNameError\u001b[0m: name 'model' is not defined"
     ]
    }
   ],
   "source": [
    "y_pred=model.predict(x_test, batch_size=None, verbose=0, steps=None)"
   ]
  },
  {
   "cell_type": "code",
   "execution_count": 30,
   "metadata": {
    "colab": {
     "autoexec": {
      "startup": false,
      "wait_interval": 0
     },
     "base_uri": "https://localhost:8080/",
     "height": 35
    },
    "colab_type": "code",
    "executionInfo": {
     "elapsed": 1208,
     "status": "ok",
     "timestamp": 1532729152452,
     "user": {
      "displayName": "Himani Negi",
      "photoUrl": "https://lh3.googleusercontent.com/a/default-user=s128",
      "userId": "114198835767307416956"
     },
     "user_tz": -330
    },
    "id": "unmlT40Yovko",
    "outputId": "cf638a9a-d2bb-4d0b-9659-ba663cc5ec37"
   },
   "outputs": [
    {
     "data": {
      "text/plain": [
       "numpy.ndarray"
      ]
     },
     "execution_count": 30,
     "metadata": {
      "tags": []
     },
     "output_type": "execute_result"
    }
   ],
   "source": [
    "type(y_pred)"
   ]
  },
  {
   "cell_type": "code",
   "execution_count": 0,
   "metadata": {
    "colab": {
     "autoexec": {
      "startup": false,
      "wait_interval": 0
     }
    },
    "colab_type": "code",
    "id": "6ZnfnrSgxs6R"
   },
   "outputs": [],
   "source": [
    "import numpy as np"
   ]
  },
  {
   "cell_type": "code",
   "execution_count": 0,
   "metadata": {
    "colab": {
     "autoexec": {
      "startup": false,
      "wait_interval": 0
     }
    },
    "colab_type": "code",
    "id": "lSbvq5Bnx0jZ"
   },
   "outputs": [],
   "source": [
    "np.savetxt(\"kamini.csv\",y_pred,delimiter = \",\")"
   ]
  }
 ],
 "metadata": {
  "accelerator": "GPU",
  "colab": {
   "collapsed_sections": [],
   "default_view": {},
   "name": "cifar3keras.ipynb",
   "provenance": [],
   "version": "0.3.2",
   "views": {}
  },
  "kernelspec": {
   "display_name": "Python 3",
   "language": "python",
   "name": "python3"
  },
  "language_info": {
   "codemirror_mode": {
    "name": "ipython",
    "version": 3
   },
   "file_extension": ".py",
   "mimetype": "text/x-python",
   "name": "python",
   "nbconvert_exporter": "python",
   "pygments_lexer": "ipython3",
   "version": "3.6.5"
  }
 },
 "nbformat": 4,
 "nbformat_minor": 1
}
